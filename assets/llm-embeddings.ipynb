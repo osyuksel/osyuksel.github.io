{
 "cells": [
  {
   "cell_type": "markdown",
   "id": "fa66e9dd-270f-46ac-a958-2e3628ccde26",
   "metadata": {},
   "source": [
    "# Messing with embedding spaces\n",
    "\n",
    "This is complimentary material to my blog post about embedding spaces in the context of a Kaggle competition, where the goal is to guess the original prompt that was given to the LLM to convert original text A to text B.\n",
    "\n",
    "Here we will look into the scoring mechanism only."
   ]
  },
  {
   "cell_type": "code",
   "execution_count": 2,
   "id": "848c17ec-d6e4-473d-a6d6-4bfef7c74313",
   "metadata": {},
   "outputs": [
    {
     "name": "stderr",
     "output_type": "stream",
     "text": [
      "D:\\anaconda-ozy\\envs\\py312\\Lib\\site-packages\\tqdm\\auto.py:21: TqdmWarning: IProgress not found. Please update jupyter and ipywidgets. See https://ipywidgets.readthedocs.io/en/stable/user_install.html\n",
      "  from .autonotebook import tqdm as notebook_tqdm\n"
     ]
    }
   ],
   "source": [
    "from sentence_transformers import SentenceTransformer\n"
   ]
  },
  {
   "cell_type": "code",
   "execution_count": 3,
   "id": "0991af34-0ddb-4daa-acfb-73dda811ca0a",
   "metadata": {},
   "outputs": [],
   "source": [
    "# Sentence we are trying to guess\n",
    "ORIGINAL = \"Convert this text into a sea shanty.\"\n",
    "\n",
    "\n",
    "candidates = [\n",
    "    \"Convert this text into a shanty.\",\n",
    "    \"Convert this text into a song.\",\n",
    "    \"Convert this text into song lyrics.\",\n",
    "    \"Convert this text into rap format.\",\n",
    "    \"Convert this text into lyrics.\",\n",
    "    \"Transform this text into a sea shanty.\",\n",
    "    \"Make this text better.\",\n",
    "    \"Improve this text.\"\n",
    "]"
   ]
  },
  {
   "cell_type": "code",
   "execution_count": 4,
   "id": "d7544963-90c8-4e7a-a07f-ff4fd05978df",
   "metadata": {},
   "outputs": [],
   "source": [
    "model = SentenceTransformer('sentence-transformers/sentence-t5-base')"
   ]
  },
  {
   "cell_type": "code",
   "execution_count": 5,
   "id": "f2ecaa3a-6b50-421e-889e-a001e2de6056",
   "metadata": {},
   "outputs": [],
   "source": [
    "from sklearn.metrics.pairwise import cosine_similarity\n",
    "\n",
    "def score_sentences(original, sentences, scoring_func=model.encode):\n",
    "    \"\"\"The scoring function is cubic cosine similarity.\"\"\"\n",
    "    \n",
    "    embeddings = scoring_func([original]+sentences)\n",
    "    score = cosine_similarity(embeddings)[0]**3\n",
    "    return score[1:]"
   ]
  },
  {
   "cell_type": "code",
   "execution_count": 6,
   "id": "96bb06ca-0db1-4575-b1aa-0f56f5b0b176",
   "metadata": {},
   "outputs": [],
   "source": [
    "scores = score_sentences(ORIGINAL, candidates)\n",
    "\n"
   ]
  },
  {
   "cell_type": "code",
   "execution_count": 47,
   "id": "6c5602ce-4f31-417d-85a2-678f05d4d65e",
   "metadata": {},
   "outputs": [],
   "source": [
    "import pandas as pd\n",
    "\n",
    "def scores_to_df(candidates,scores):\n",
    "    scores_df = pd.Series(dict(zip(candidates,scores))).reset_index()\n",
    "    scores_df.columns = [\"sentence\", \"score\"]\n",
    "    return scores_df.sort_values(by=\"score\", ascending=False)\n",
    "    \n",
    "    "
   ]
  },
  {
   "cell_type": "code",
   "execution_count": 48,
   "id": "f2ec06a1-99b3-4270-9f10-5c5c0f479ee5",
   "metadata": {},
   "outputs": [
    {
     "data": {
      "text/html": [
       "<div>\n",
       "<style scoped>\n",
       "    .dataframe tbody tr th:only-of-type {\n",
       "        vertical-align: middle;\n",
       "    }\n",
       "\n",
       "    .dataframe tbody tr th {\n",
       "        vertical-align: top;\n",
       "    }\n",
       "\n",
       "    .dataframe thead th {\n",
       "        text-align: right;\n",
       "    }\n",
       "</style>\n",
       "<table border=\"1\" class=\"dataframe\">\n",
       "  <thead>\n",
       "    <tr style=\"text-align: right;\">\n",
       "      <th></th>\n",
       "      <th>sentence</th>\n",
       "      <th>score</th>\n",
       "    </tr>\n",
       "  </thead>\n",
       "  <tbody>\n",
       "    <tr>\n",
       "      <th>5</th>\n",
       "      <td>Transform this text into a sea shanty.</td>\n",
       "      <td>0.670905</td>\n",
       "    </tr>\n",
       "    <tr>\n",
       "      <th>1</th>\n",
       "      <td>Convert this text into a song.</td>\n",
       "      <td>0.658017</td>\n",
       "    </tr>\n",
       "    <tr>\n",
       "      <th>2</th>\n",
       "      <td>Convert this text into song lyrics.</td>\n",
       "      <td>0.655832</td>\n",
       "    </tr>\n",
       "    <tr>\n",
       "      <th>6</th>\n",
       "      <td>Make this text better.</td>\n",
       "      <td>0.649546</td>\n",
       "    </tr>\n",
       "    <tr>\n",
       "      <th>7</th>\n",
       "      <td>Improve this text.</td>\n",
       "      <td>0.640520</td>\n",
       "    </tr>\n",
       "    <tr>\n",
       "      <th>4</th>\n",
       "      <td>Convert this text into lyrics.</td>\n",
       "      <td>0.636384</td>\n",
       "    </tr>\n",
       "    <tr>\n",
       "      <th>3</th>\n",
       "      <td>Convert this text into rap format.</td>\n",
       "      <td>0.620373</td>\n",
       "    </tr>\n",
       "    <tr>\n",
       "      <th>0</th>\n",
       "      <td>Convert this text into a shanty.</td>\n",
       "      <td>0.606098</td>\n",
       "    </tr>\n",
       "  </tbody>\n",
       "</table>\n",
       "</div>"
      ],
      "text/plain": [
       "                                 sentence     score\n",
       "5  Transform this text into a sea shanty.  0.670905\n",
       "1          Convert this text into a song.  0.658017\n",
       "2     Convert this text into song lyrics.  0.655832\n",
       "6                  Make this text better.  0.649546\n",
       "7                      Improve this text.  0.640520\n",
       "4          Convert this text into lyrics.  0.636384\n",
       "3      Convert this text into rap format.  0.620373\n",
       "0        Convert this text into a shanty.  0.606098"
      ]
     },
     "execution_count": 48,
     "metadata": {},
     "output_type": "execute_result"
    }
   ],
   "source": [
    "scores_to_df(candidates,scores)"
   ]
  },
  {
   "cell_type": "markdown",
   "id": "3045c273-b0a2-4f2f-91fe-f35e7b9584e3",
   "metadata": {},
   "source": [
    "Two interesting things:\n",
    "\n",
    "- The scoring (embedding+cosine) is quite unforgiving. It drops sharply when you don't guess the exact words, even if you guess in the same ballpark.\n",
    "- \"Make this text better\", already beats most of the song-related prompts.\n",
    "\n",
    "Now let's add more variation to our sentence pool, then check: out of all sentences in our sentence pool, which one has, on average, highest similarity to the whole group?"
   ]
  },
  {
   "cell_type": "code",
   "execution_count": 9,
   "id": "0a4f59be-20b9-47bd-80dc-6d9bc22b6ef4",
   "metadata": {},
   "outputs": [],
   "source": [
    "sentence_pool = [\n",
    "    ORIGINAL,\n",
    "    \"Translate this text into Chinese.\",\n",
    "    \"Make this text ELI5.\",\n",
    "    \"Convert this text into a Haiku.\",\n",
    "    \"Turn this text into a newspaper article.\",\n",
    "    \"Make this text sound more assertive.\",\n",
    "    \"Translate this text into Pig Latin.\",\n",
    "    \"Rewrite this text from the point of view of a medieval scholar.\",\n",
    "    \"Rewrite this text without adjectives.\",\n",
    "    \"Make this text shorter.\",\n",
    "    \"Fluff up this text.\",\n",
    "    \"Make this text better.\",\n",
    "    \"Drop all the vowels from this text.\",\n",
    "    \"Reimagine this text as a school principal's speech.\",\n",
    "    \"Write this text as a tweet.\",\n",
    "    \"Convert this text into an elevator pitch.\",\n",
    "    \"Transform this text into a paper abstract.\",\n",
    "    \"Rewrite this text in all caps.\",\n",
    "    \"Turn this text into a fable.\",\n",
    "    \"Rewrite this text as if it's a Bible verse.\",\n",
    "    \"Paraphrase this text while retaining the original meaning.\"\n",
    "] "
   ]
  },
  {
   "cell_type": "code",
   "execution_count": 10,
   "id": "84f553ea-c829-4b84-8d89-aca13cdf86dd",
   "metadata": {},
   "outputs": [
    {
     "data": {
      "text/html": [
       "<div>\n",
       "<style scoped>\n",
       "    .dataframe tbody tr th:only-of-type {\n",
       "        vertical-align: middle;\n",
       "    }\n",
       "\n",
       "    .dataframe tbody tr th {\n",
       "        vertical-align: top;\n",
       "    }\n",
       "\n",
       "    .dataframe thead th {\n",
       "        text-align: right;\n",
       "    }\n",
       "</style>\n",
       "<table border=\"1\" class=\"dataframe\">\n",
       "  <thead>\n",
       "    <tr style=\"text-align: right;\">\n",
       "      <th></th>\n",
       "      <th>sentence</th>\n",
       "      <th>mean score</th>\n",
       "    </tr>\n",
       "  </thead>\n",
       "  <tbody>\n",
       "    <tr>\n",
       "      <th>11</th>\n",
       "      <td>Make this text better.</td>\n",
       "      <td>0.675470</td>\n",
       "    </tr>\n",
       "    <tr>\n",
       "      <th>10</th>\n",
       "      <td>Fluff up this text.</td>\n",
       "      <td>0.649809</td>\n",
       "    </tr>\n",
       "    <tr>\n",
       "      <th>4</th>\n",
       "      <td>Turn this text into a newspaper article.</td>\n",
       "      <td>0.634063</td>\n",
       "    </tr>\n",
       "    <tr>\n",
       "      <th>19</th>\n",
       "      <td>Rewrite this text as if it's a Bible verse.</td>\n",
       "      <td>0.626964</td>\n",
       "    </tr>\n",
       "    <tr>\n",
       "      <th>9</th>\n",
       "      <td>Make this text shorter.</td>\n",
       "      <td>0.622745</td>\n",
       "    </tr>\n",
       "    <tr>\n",
       "      <th>15</th>\n",
       "      <td>Convert this text into an elevator pitch.</td>\n",
       "      <td>0.619233</td>\n",
       "    </tr>\n",
       "    <tr>\n",
       "      <th>5</th>\n",
       "      <td>Make this text sound more assertive.</td>\n",
       "      <td>0.615879</td>\n",
       "    </tr>\n",
       "    <tr>\n",
       "      <th>16</th>\n",
       "      <td>Transform this text into a paper abstract.</td>\n",
       "      <td>0.615197</td>\n",
       "    </tr>\n",
       "    <tr>\n",
       "      <th>14</th>\n",
       "      <td>Write this text as a tweet.</td>\n",
       "      <td>0.615048</td>\n",
       "    </tr>\n",
       "    <tr>\n",
       "      <th>18</th>\n",
       "      <td>Turn this text into a fable.</td>\n",
       "      <td>0.608951</td>\n",
       "    </tr>\n",
       "    <tr>\n",
       "      <th>8</th>\n",
       "      <td>Rewrite this text without adjectives.</td>\n",
       "      <td>0.601851</td>\n",
       "    </tr>\n",
       "    <tr>\n",
       "      <th>2</th>\n",
       "      <td>Make this text ELI5.</td>\n",
       "      <td>0.595606</td>\n",
       "    </tr>\n",
       "    <tr>\n",
       "      <th>20</th>\n",
       "      <td>Paraphrase this text while retaining the origi...</td>\n",
       "      <td>0.587094</td>\n",
       "    </tr>\n",
       "    <tr>\n",
       "      <th>0</th>\n",
       "      <td>Convert this text into a sea shanty.</td>\n",
       "      <td>0.583066</td>\n",
       "    </tr>\n",
       "    <tr>\n",
       "      <th>6</th>\n",
       "      <td>Translate this text into Pig Latin.</td>\n",
       "      <td>0.574291</td>\n",
       "    </tr>\n",
       "    <tr>\n",
       "      <th>13</th>\n",
       "      <td>Reimagine this text as a school principal's sp...</td>\n",
       "      <td>0.572583</td>\n",
       "    </tr>\n",
       "    <tr>\n",
       "      <th>7</th>\n",
       "      <td>Rewrite this text from the point of view of a ...</td>\n",
       "      <td>0.571567</td>\n",
       "    </tr>\n",
       "    <tr>\n",
       "      <th>3</th>\n",
       "      <td>Convert this text into a Haiku.</td>\n",
       "      <td>0.567466</td>\n",
       "    </tr>\n",
       "    <tr>\n",
       "      <th>1</th>\n",
       "      <td>Translate this text into Chinese.</td>\n",
       "      <td>0.566076</td>\n",
       "    </tr>\n",
       "    <tr>\n",
       "      <th>17</th>\n",
       "      <td>Rewrite this text in all caps.</td>\n",
       "      <td>0.563759</td>\n",
       "    </tr>\n",
       "    <tr>\n",
       "      <th>12</th>\n",
       "      <td>Drop all the vowels from this text.</td>\n",
       "      <td>0.545568</td>\n",
       "    </tr>\n",
       "  </tbody>\n",
       "</table>\n",
       "</div>"
      ],
      "text/plain": [
       "                                             sentence  mean score\n",
       "11                             Make this text better.    0.675470\n",
       "10                                Fluff up this text.    0.649809\n",
       "4            Turn this text into a newspaper article.    0.634063\n",
       "19        Rewrite this text as if it's a Bible verse.    0.626964\n",
       "9                             Make this text shorter.    0.622745\n",
       "15          Convert this text into an elevator pitch.    0.619233\n",
       "5                Make this text sound more assertive.    0.615879\n",
       "16         Transform this text into a paper abstract.    0.615197\n",
       "14                        Write this text as a tweet.    0.615048\n",
       "18                       Turn this text into a fable.    0.608951\n",
       "8               Rewrite this text without adjectives.    0.601851\n",
       "2                                Make this text ELI5.    0.595606\n",
       "20  Paraphrase this text while retaining the origi...    0.587094\n",
       "0                Convert this text into a sea shanty.    0.583066\n",
       "6                 Translate this text into Pig Latin.    0.574291\n",
       "13  Reimagine this text as a school principal's sp...    0.572583\n",
       "7   Rewrite this text from the point of view of a ...    0.571567\n",
       "3                     Convert this text into a Haiku.    0.567466\n",
       "1                   Translate this text into Chinese.    0.566076\n",
       "17                     Rewrite this text in all caps.    0.563759\n",
       "12                Drop all the vowels from this text.    0.545568"
      ]
     },
     "execution_count": 10,
     "metadata": {},
     "output_type": "execute_result"
    }
   ],
   "source": [
    "import numpy as np\n",
    "\n",
    "embeddings = model.encode(sentence_pool)\n",
    "score = cosine_similarity(embeddings)**3\n",
    "score_mean = np.mean(score, 1)\n",
    "\n",
    "score_mean_table = pd.Series(dict(zip(sentence_pool,score_mean))).reset_index()\n",
    "score_mean_table.columns = [\"sentence\", \"mean score\"]\n",
    "score_mean_table.sort_values(by=\"mean score\", ascending=False)"
   ]
  },
  {
   "cell_type": "markdown",
   "id": "52904e3c-0664-432c-bcbd-b417b070537d",
   "metadata": {},
   "source": [
    "Even in a more varied pool, \"Make this text better.\" highest on average! That means, we can call this the \"mean\" sentence -- it vague and general enough, and its embedding is positioned centrally in relation to the others in the embedding space. Therefore, it can be our default guess when trying to guess any sentence in this pool. Especially since the scoring is, as seen before, quite unforgiving, and a mean sentence beats one that feels subjectively closer to the theme."
   ]
  },
  {
   "cell_type": "markdown",
   "id": "7aca98d4-2f57-4fbb-9231-c021fbe4bb77",
   "metadata": {},
   "source": [
    "## Automated generation of mean sentence"
   ]
  },
  {
   "cell_type": "markdown",
   "id": "c8319e98-1379-4f26-8d4f-3168778c0729",
   "metadata": {},
   "source": [
    "Can we do better than this? What if we searched the token space to find the sentence that gets the highest score in a given pool?"
   ]
  },
  {
   "cell_type": "code",
   "execution_count": 11,
   "id": "7ec6cd25-e264-48ff-a26a-d4f34d621207",
   "metadata": {},
   "outputs": [
    {
     "data": {
      "text/plain": [
       "31997"
      ]
     },
     "execution_count": 11,
     "metadata": {},
     "output_type": "execute_result"
    }
   ],
   "source": [
    "tokenizer = model.tokenizer\n",
    "\n",
    "# Get set of all special token IDs\n",
    "special_token_ids = set(tokenizer.all_special_ids)\n",
    "\n",
    "# Filter out special tokens\n",
    "vocabulary = [token for token, token_id in tokenizer.vocab.items() if token_id not in special_token_ids]\n",
    "\n",
    "len(vocabulary)"
   ]
  },
  {
   "cell_type": "code",
   "execution_count": 12,
   "id": "487affe1-ed58-42f5-8103-74a23ae030bb",
   "metadata": {},
   "outputs": [
    {
     "data": {
      "text/plain": [
       "False"
      ]
     },
     "execution_count": 12,
     "metadata": {},
     "output_type": "execute_result"
    }
   ],
   "source": [
    "\" \"  in vocabulary"
   ]
  },
  {
   "cell_type": "code",
   "execution_count": 13,
   "id": "f864fe46-f43f-4c58-99f6-0848a17145fd",
   "metadata": {},
   "outputs": [],
   "source": [
    "def mean_score(orig_sentences, new_sentences):\n",
    "    embeddings_orig = model.encode(orig_sentences, batch_size=256)\n",
    "    embeddings_new = model.encode(new_sentences, batch_size=256)\n",
    "    score = cosine_similarity(embeddings_orig,embeddings_new)**3\n",
    "    score_mean = np.mean(score, 0)\n",
    "    return score_mean"
   ]
  },
  {
   "cell_type": "markdown",
   "id": "8a3988e2-5a32-4dd2-92b9-21bd39a26e77",
   "metadata": {},
   "source": [
    "Here we do a simple greedy search that simply picks the next best token and appends it to the selected index, with two passes. First pass constructs the initial mean sentence and the second best refines it.\n",
    "\n",
    "This is just to demonstrate the point -- there are ways that can yield better results, such as beam search or even fancier methods like genetic algorithms."
   ]
  },
  {
   "cell_type": "code",
   "execution_count": 30,
   "id": "33e7253f-f267-4cc7-8fbb-bc36c1bdbdb7",
   "metadata": {},
   "outputs": [
    {
     "name": "stdout",
     "output_type": "stream",
     "text": [
      "current_text='Text' current_score=0.5537645\n",
      "current_text='Text thus' current_score=0.6248839\n",
      "current_text='Text thus piece' current_score=0.6438213\n",
      "current_text='Text thus pieceou' current_score=0.65894973\n",
      "current_text='Text thus pieceouTHER' current_score=0.66563773\n",
      "current_text='Text thus pieceouTHERT' current_score=0.666775\n",
      "current_text='Text thus pieceouTHERTTION' current_score=0.66686046\n",
      "current_text='Text thus pieceouTHERTTION ' current_score=0.66686046\n",
      "current_text='Text thus pieceouTHERTTION lucrarea' current_score=0.669691\n",
      "current_text='Text thus pieceouTHERTTION lucrarea.' current_score=0.676661\n",
      "current_text='Text thus pieceouTHERTTION lucrarea.' current_score=0.676661\n",
      "current_text='Text this pieceouTHERTTION lucrarea.' current_score=0.69148684\n",
      "current_text='Text this PieceouTHERTTION lucrarea.' current_score=0.69295275\n",
      "current_text='Text this PieceICTHERTTION lucrarea.' current_score=0.6964444\n",
      "current_text='Text this PieceICWLTTION lucrarea.' current_score=0.70065045\n",
      "current_text='Text this PieceICWLISHTION lucrarea.' current_score=0.7011687\n",
      "current_text='Text this PieceICWLISHTION lucrarea.' current_score=0.7011687\n",
      "current_text='Text this PieceICWLISHTION aslucrarea.' current_score=0.7012301\n",
      "current_text='Text this PieceICWLISHTION aslucrarea.' current_score=0.7012301\n",
      "current_text='Text this PieceICWLISHTION aslucrarea.' current_score=0.7012301\n"
     ]
    }
   ],
   "source": [
    "current = [\"\"]*20\n",
    "current_text = \"\"\n",
    "\n",
    "current_score = 0\n",
    "for _ in range(2):\n",
    "    for i in range(10):\n",
    "        candidates = [current.copy() for _ in vocabulary]\n",
    "        for j,t in enumerate(vocabulary):\n",
    "            candidates[j][i] = t\n",
    "            candidates[j] = [t for t in candidates[j] if t!=\"\"]        \n",
    "\n",
    "        # current_strip = [t for t in current if t!=\"\"]\n",
    "        candidate_texts = [tokenizer.convert_tokens_to_string(c) for c in candidates]\n",
    "\n",
    "        # print(len(candidates))\n",
    "        # print(candidates[0])\n",
    "\n",
    "        scores = mean_score(sentence_pool, candidate_texts)\n",
    "\n",
    "        current_score = np.max(scores)\n",
    "        # best_idx = np.argsort(-scores)[:5]        \n",
    "\n",
    "        next_token = vocabulary[np.argmax(scores)]\n",
    "        current[i] = next_token\n",
    "        current_text = tokenizer.convert_tokens_to_string(current)\n",
    "        print(f\"{current_text=} {current_score=}\")\n"
   ]
  },
  {
   "cell_type": "markdown",
   "id": "cac77d8f-526c-4066-aefb-78b85e67ba05",
   "metadata": {},
   "source": [
    "This sentence scores even higher than 'Make this text better' on average and it's nonsensical.\n"
   ]
  },
  {
   "cell_type": "code",
   "execution_count": null,
   "id": "fdabff9b-85eb-4b8d-ad83-f269a6103cd7",
   "metadata": {},
   "outputs": [],
   "source": []
  },
  {
   "cell_type": "markdown",
   "id": "cc61e17d-5ae7-4f5e-996b-0b950486fe36",
   "metadata": {},
   "source": [
    "Going back to the initial sentence guessing problem - what if we appended our educated guesses with this mean sentence?"
   ]
  },
  {
   "cell_type": "code",
   "execution_count": 35,
   "id": "0424e94d-e0a9-4354-9bcd-1187fded2898",
   "metadata": {},
   "outputs": [],
   "source": [
    "# Sentence we are trying to guess\n",
    "ORIGINAL = \"Convert this text into a sea shanty.\"\n",
    "MEAN_SENTENCE = \"Text this PieceICWLISHTION aslucrarea.\"\n",
    "\n",
    "candidates = [\n",
    "    \"Convert this text into a shanty.\",\n",
    "    \"Convert this text into a song.\",\n",
    "    \"Convert this text into song lyrics.\",\n",
    "    \"Convert this text into rap format.\",\n",
    "    \"Convert this text into lyrics.\",\n",
    "    \"Transform this text into a sea shanty.\",\n",
    "    \"Make this text better.\",\n",
    "    \"Improve this text.\"\n",
    "]"
   ]
  },
  {
   "cell_type": "code",
   "execution_count": 52,
   "id": "175ace2a-606c-49cb-81b7-4dd2c64b7324",
   "metadata": {
    "tags": []
   },
   "outputs": [],
   "source": [
    "augmented_candidates = [c+\" \"+MEAN_SENTENCE+\" \"+c for c in candidates]  + [MEAN_SENTENCE]\n",
    "    "
   ]
  },
  {
   "cell_type": "code",
   "execution_count": 53,
   "id": "c2e06221-fac4-4785-9de6-513bed13ec84",
   "metadata": {},
   "outputs": [],
   "source": [
    "scores_normal = score_sentences(ORIGINAL, candidates)\n",
    "scores_augmented = score_sentences(ORIGINAL, augmented_candidates)\n"
   ]
  },
  {
   "cell_type": "code",
   "execution_count": 54,
   "id": "1c1f5a08-8e9a-4f46-bdb5-fba7f8358b63",
   "metadata": {
    "tags": []
   },
   "outputs": [
    {
     "data": {
      "text/html": [
       "<div>\n",
       "<style scoped>\n",
       "    .dataframe tbody tr th:only-of-type {\n",
       "        vertical-align: middle;\n",
       "    }\n",
       "\n",
       "    .dataframe tbody tr th {\n",
       "        vertical-align: top;\n",
       "    }\n",
       "\n",
       "    .dataframe thead th {\n",
       "        text-align: right;\n",
       "    }\n",
       "</style>\n",
       "<table border=\"1\" class=\"dataframe\">\n",
       "  <thead>\n",
       "    <tr style=\"text-align: right;\">\n",
       "      <th></th>\n",
       "      <th>sentence</th>\n",
       "      <th>score</th>\n",
       "    </tr>\n",
       "  </thead>\n",
       "  <tbody>\n",
       "    <tr>\n",
       "      <th>5</th>\n",
       "      <td>Transform this text into a sea shanty.</td>\n",
       "      <td>0.970698</td>\n",
       "    </tr>\n",
       "    <tr>\n",
       "      <th>0</th>\n",
       "      <td>Convert this text into a shanty.</td>\n",
       "      <td>0.901210</td>\n",
       "    </tr>\n",
       "    <tr>\n",
       "      <th>1</th>\n",
       "      <td>Convert this text into a song.</td>\n",
       "      <td>0.638192</td>\n",
       "    </tr>\n",
       "    <tr>\n",
       "      <th>6</th>\n",
       "      <td>Make this text better.</td>\n",
       "      <td>0.621427</td>\n",
       "    </tr>\n",
       "    <tr>\n",
       "      <th>4</th>\n",
       "      <td>Convert this text into lyrics.</td>\n",
       "      <td>0.619016</td>\n",
       "    </tr>\n",
       "    <tr>\n",
       "      <th>2</th>\n",
       "      <td>Convert this text into song lyrics.</td>\n",
       "      <td>0.609144</td>\n",
       "    </tr>\n",
       "    <tr>\n",
       "      <th>7</th>\n",
       "      <td>Improve this text.</td>\n",
       "      <td>0.604455</td>\n",
       "    </tr>\n",
       "    <tr>\n",
       "      <th>3</th>\n",
       "      <td>Convert this text into rap format.</td>\n",
       "      <td>0.593446</td>\n",
       "    </tr>\n",
       "  </tbody>\n",
       "</table>\n",
       "</div>"
      ],
      "text/plain": [
       "                                 sentence     score\n",
       "5  Transform this text into a sea shanty.  0.970698\n",
       "0        Convert this text into a shanty.  0.901210\n",
       "1          Convert this text into a song.  0.638192\n",
       "6                  Make this text better.  0.621427\n",
       "4          Convert this text into lyrics.  0.619016\n",
       "2     Convert this text into song lyrics.  0.609144\n",
       "7                      Improve this text.  0.604455\n",
       "3      Convert this text into rap format.  0.593446"
      ]
     },
     "execution_count": 54,
     "metadata": {},
     "output_type": "execute_result"
    }
   ],
   "source": [
    "scores_to_df(candidates,scores_normal)"
   ]
  },
  {
   "cell_type": "code",
   "execution_count": 55,
   "id": "b27a6719-2020-4ee4-9804-894e09574a65",
   "metadata": {
    "tags": []
   },
   "outputs": [
    {
     "data": {
      "text/html": [
       "<div>\n",
       "<style scoped>\n",
       "    .dataframe tbody tr th:only-of-type {\n",
       "        vertical-align: middle;\n",
       "    }\n",
       "\n",
       "    .dataframe tbody tr th {\n",
       "        vertical-align: top;\n",
       "    }\n",
       "\n",
       "    .dataframe thead th {\n",
       "        text-align: right;\n",
       "    }\n",
       "</style>\n",
       "<table border=\"1\" class=\"dataframe\">\n",
       "  <thead>\n",
       "    <tr style=\"text-align: right;\">\n",
       "      <th></th>\n",
       "      <th>sentence</th>\n",
       "      <th>score</th>\n",
       "    </tr>\n",
       "  </thead>\n",
       "  <tbody>\n",
       "    <tr>\n",
       "      <th>5</th>\n",
       "      <td>Transform this text into a sea shanty. Text this PieceICWLISHTION aslucrarea.</td>\n",
       "      <td>0.919560</td>\n",
       "    </tr>\n",
       "    <tr>\n",
       "      <th>0</th>\n",
       "      <td>Convert this text into a shanty. Text this PieceICWLISHTION aslucrarea.</td>\n",
       "      <td>0.856438</td>\n",
       "    </tr>\n",
       "    <tr>\n",
       "      <th>8</th>\n",
       "      <td>Text this PieceICWLISHTION aslucrarea.</td>\n",
       "      <td>0.660113</td>\n",
       "    </tr>\n",
       "    <tr>\n",
       "      <th>6</th>\n",
       "      <td>Make this text better. Text this PieceICWLISHTION aslucrarea.</td>\n",
       "      <td>0.651418</td>\n",
       "    </tr>\n",
       "    <tr>\n",
       "      <th>3</th>\n",
       "      <td>Convert this text into rap format. Text this PieceICWLISHTION aslucrarea.</td>\n",
       "      <td>0.651195</td>\n",
       "    </tr>\n",
       "    <tr>\n",
       "      <th>1</th>\n",
       "      <td>Convert this text into a song. Text this PieceICWLISHTION aslucrarea.</td>\n",
       "      <td>0.647883</td>\n",
       "    </tr>\n",
       "    <tr>\n",
       "      <th>7</th>\n",
       "      <td>Improve this text. Text this PieceICWLISHTION aslucrarea.</td>\n",
       "      <td>0.645544</td>\n",
       "    </tr>\n",
       "    <tr>\n",
       "      <th>4</th>\n",
       "      <td>Convert this text into lyrics. Text this PieceICWLISHTION aslucrarea.</td>\n",
       "      <td>0.641856</td>\n",
       "    </tr>\n",
       "    <tr>\n",
       "      <th>2</th>\n",
       "      <td>Convert this text into song lyrics. Text this PieceICWLISHTION aslucrarea.</td>\n",
       "      <td>0.627022</td>\n",
       "    </tr>\n",
       "  </tbody>\n",
       "</table>\n",
       "</div>"
      ],
      "text/plain": [
       "                                                                        sentence  \\\n",
       "5  Transform this text into a sea shanty. Text this PieceICWLISHTION aslucrarea.   \n",
       "0        Convert this text into a shanty. Text this PieceICWLISHTION aslucrarea.   \n",
       "8                                         Text this PieceICWLISHTION aslucrarea.   \n",
       "6                  Make this text better. Text this PieceICWLISHTION aslucrarea.   \n",
       "3      Convert this text into rap format. Text this PieceICWLISHTION aslucrarea.   \n",
       "1          Convert this text into a song. Text this PieceICWLISHTION aslucrarea.   \n",
       "7                      Improve this text. Text this PieceICWLISHTION aslucrarea.   \n",
       "4          Convert this text into lyrics. Text this PieceICWLISHTION aslucrarea.   \n",
       "2     Convert this text into song lyrics. Text this PieceICWLISHTION aslucrarea.   \n",
       "\n",
       "      score  \n",
       "5  0.919560  \n",
       "0  0.856438  \n",
       "8  0.660113  \n",
       "6  0.651418  \n",
       "3  0.651195  \n",
       "1  0.647883  \n",
       "7  0.645544  \n",
       "4  0.641856  \n",
       "2  0.627022  "
      ]
     },
     "execution_count": 55,
     "metadata": {},
     "output_type": "execute_result"
    }
   ],
   "source": [
    "pd.options.display.max_colwidth = 100\n",
    "scores_to_df(augmented_candidates,scores_augmented)"
   ]
  },
  {
   "cell_type": "markdown",
   "id": "e1034b29-cb7b-4252-9ecb-a7562ea4d937",
   "metadata": {},
   "source": [
    "When the exact words are guessed (\"shanty\"), prepending with the mean prompt harms. However, for every other guess"
   ]
  },
  {
   "cell_type": "code",
   "execution_count": null,
   "id": "81258059-cb9d-46c5-91fe-674ab4ce6075",
   "metadata": {},
   "outputs": [],
   "source": []
  }
 ],
 "metadata": {
  "kernelspec": {
   "display_name": "Python 3.12",
   "language": "python",
   "name": "py312"
  },
  "language_info": {
   "codemirror_mode": {
    "name": "ipython",
    "version": 3
   },
   "file_extension": ".py",
   "mimetype": "text/x-python",
   "name": "python",
   "nbconvert_exporter": "python",
   "pygments_lexer": "ipython3",
   "version": "3.12.0"
  }
 },
 "nbformat": 4,
 "nbformat_minor": 5
}
